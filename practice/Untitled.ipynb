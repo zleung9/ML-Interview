{
 "cells": [
  {
   "cell_type": "code",
   "execution_count": 41,
   "id": "3cd8223f-69db-48f9-a50b-3a99efba808e",
   "metadata": {},
   "outputs": [],
   "source": [
    "import torch\n",
    "import torch.nn as nn\n",
    "from torch.nn import functional as F\n",
    "device = 'cuda' if torch.cuda.is_available() else 'cpu'\n"
   ]
  },
  {
   "cell_type": "code",
   "execution_count": 4,
   "id": "073fc8ac-6270-475a-ad33-2ef8c180a0f8",
   "metadata": {},
   "outputs": [
    {
     "name": "stdout",
     "output_type": "stream",
     "text": [
      "  % Total    % Received % Xferd  Average Speed   Time    Time     Time  Current\n",
      "                                 Dload  Upload   Total   Spent    Left  Speed\n",
      "100 1089k  100 1089k    0     0  6989k      0 --:--:-- --:--:-- --:--:-- 7027k\n"
     ]
    }
   ],
   "source": [
    "!curl https://raw.githubusercontent.com/karpathy/char-rnn/master/data/tinyshakespeare/input.txt > input.txt"
   ]
  },
  {
   "cell_type": "code",
   "execution_count": 5,
   "id": "c5989344-7276-48a1-a275-c609b9405e41",
   "metadata": {},
   "outputs": [],
   "source": [
    "# read it in to inspect it\n",
    "with open('input.txt', 'r', encoding='utf-8') as f:\n",
    "    text = f.read()"
   ]
  },
  {
   "cell_type": "code",
   "execution_count": 7,
   "id": "10d2bd9e-2cf3-40e6-b082-5ebf522e90f9",
   "metadata": {},
   "outputs": [
    {
     "name": "stdout",
     "output_type": "stream",
     "text": [
      "\n",
      " !$&',-.3:;?ABCDEFGHIJKLMNOPQRSTUVWXYZabcdefghijklmnopqrstuvwxyz\n",
      "65\n"
     ]
    }
   ],
   "source": [
    "chars = sorted(list(set(text)))\n",
    "vocab_size = len(chars)\n",
    "print(''.join(chars))\n",
    "print(vocab_size)"
   ]
  },
  {
   "cell_type": "code",
   "execution_count": 8,
   "id": "75ddb97b-cd8d-4e37-8f84-1b00099b2c71",
   "metadata": {},
   "outputs": [
    {
     "name": "stdout",
     "output_type": "stream",
     "text": [
      "[46, 47, 47, 1, 58, 46, 43, 56, 43]\n",
      "hii there\n"
     ]
    }
   ],
   "source": [
    "# create a mapping from characters to integers\n",
    "stoi = { ch:i for i,ch in enumerate(chars) }\n",
    "itos = { i:ch for i,ch in enumerate(chars) }\n",
    "encode = lambda s: [stoi[c] for c in s] # encoder: take a string, output a list of integers\n",
    "decode = lambda l: ''.join([itos[i] for i in l]) # decoder: take a list of integers, output a string\n",
    "\n",
    "print(encode(\"hii there\"))\n",
    "print(decode(encode(\"hii there\")))"
   ]
  },
  {
   "cell_type": "code",
   "execution_count": 10,
   "id": "2566b6de-5cc0-4cba-83c4-c0ac28965f4c",
   "metadata": {},
   "outputs": [],
   "source": [
    "data = torch.tensor(encode(text), dtype=torch.long)\n",
    "n = int(0.9*len(data)) # first 90% will be train, rest val\n",
    "train_data = data[:n]\n",
    "val_data = data[n:]"
   ]
  },
  {
   "cell_type": "code",
   "execution_count": 97,
   "id": "c5115dc9-e6d6-4cf1-83b1-6a5e11a61270",
   "metadata": {},
   "outputs": [
    {
     "name": "stdout",
     "output_type": "stream",
     "text": [
      "torch.Size([4, 8]) torch.Size([4, 8])\n"
     ]
    }
   ],
   "source": [
    "# data loading\n",
    "def get_batch(split, batch_size=4, block_size=8):\n",
    "    # generate a small batch of data of inputs x and targets y\n",
    "    data = train_data if split == 'train' else val_data\n",
    "    ix = torch.randint(len(data) - block_size, (batch_size,))\n",
    "    x = torch.stack([data[i:i+block_size] for i in ix])\n",
    "    y = torch.stack([data[i+1:i+block_size+1] for i in ix])\n",
    "    x, y = x.to(device), y.to(device)\n",
    "    return x, y\n",
    "\n",
    "@torch.no_grad()\n",
    "def estimate_loss(model, eval_iters):\n",
    "    out = {}\n",
    "    model.eval()\n",
    "    for split in [\"train\", \"val\"]:\n",
    "        losses = torch.zeros(eval_iters)\n",
    "        for k in range(eval_iters):\n",
    "            xb, yb = get_batch(split)\n",
    "            _, loss = model(xb, targets=yb)\n",
    "            losses[k] = loss.item()\n",
    "        out[split] = losses.mean()\n",
    "    model.train()\n",
    "    return out\n",
    "    \n",
    "block_size = 8\n",
    "batch_size = 4\n",
    "xb, yb = get_batch('train', batch_size=4, block_size=block_size)\n",
    "print(xb.shape, yb.shape)"
   ]
  },
  {
   "cell_type": "code",
   "execution_count": 68,
   "id": "8b31723b-7a7c-4883-876f-9396f5ece92c",
   "metadata": {},
   "outputs": [
    {
     "name": "stdout",
     "output_type": "stream",
     "text": [
      "torch.Size([32, 65]) tensor(4.3888, grad_fn=<NllLossBackward0>)\n"
     ]
    }
   ],
   "source": [
    "class BigramLanguageModel(nn.Module):\n",
    "    def __init__(self, vocab_size=27, n_embed=10):\n",
    "        super().__init__()\n",
    "        self.token_embedding_table = nn.Embedding(vocab_size, n_embed)\n",
    "        self.lm_head = nn.Linear(n_embed, vocab_size)\n",
    "        \n",
    "    def forward(self, idx, targets=None):\n",
    "        B, T = idx.shape # idx ranges from 0~vocab_size\n",
    "        tok_embed = self.token_embedding_table(idx) # B, T, C\n",
    "        logits = self.lm_head(tok_embed) # B, T, vocab_size\n",
    "\n",
    "        if targets is None:\n",
    "            loss = None\n",
    "        else: # assuming targets has dimension (B, T)\n",
    "            B, T, C = logits.shape\n",
    "            logits = logits.view(B*T, C)\n",
    "            targets = targets.view(B*T)\n",
    "            loss = F.cross_entropy(logits, targets)\n",
    "\n",
    "        return logits, loss\n",
    "            \n",
    "    def generate(self, idx, max_new_tokens):\n",
    "        # idx is B, T size\n",
    "        for _ in range(max_new_tokens):\n",
    "            logits, _ = self(idx[:, -1:]) # Only focus on last time stamp: B, 1, vocab_size\n",
    "            probs = F.softmax(logits, dim=-1) # B, 1, vocab_size\n",
    "            probs = probs[:, -1, :] # B, vocab_size\n",
    "            idx_next = torch.multinomial(probs, num_samples=1) # B, 1\n",
    "            idx = torch.cat((idx, idx_next), dim=1) # (B, T+1)\n",
    "        return idx\n",
    "        \n",
    "m = BigramLanguageModel(vocab_size, n_embed=16)\n",
    "out, loss = m(xb, yb)\n",
    "print(out.shape, loss)"
   ]
  },
  {
   "cell_type": "code",
   "execution_count": 99,
   "id": "85aa4611-6b29-4fcf-bca6-79bbc64ce4ad",
   "metadata": {},
   "outputs": [
    {
     "name": "stdout",
     "output_type": "stream",
     "text": [
      "{'train': tensor(2.4845), 'val': tensor(2.5985)}\n"
     ]
    }
   ],
   "source": [
    "print(estimate_loss(model, eval_iters=10))"
   ]
  },
  {
   "cell_type": "code",
   "execution_count": 81,
   "id": "fc02f394-60a9-4075-b4dd-9d026115b4bf",
   "metadata": {},
   "outputs": [
    {
     "name": "stdout",
     "output_type": "stream",
     "text": [
      "\n",
      "kg\n",
      "c,'ywjZ xdjHZTiv;xdbX'\n",
      "uMnVWr 'uBq$&rvM$\n",
      "fGlTWx:IvNF!;y-ztl;FRYHr stHE-Y,SpMYxpSEaXlF.oT3zSfEqLa3\n"
     ]
    }
   ],
   "source": [
    "idx_out = m.generate(idx=torch.zeros(2, 1, dtype=torch.long), max_new_tokens=100)\n",
    "print(decode(idx_out[0].tolist()))"
   ]
  },
  {
   "cell_type": "code",
   "execution_count": 102,
   "id": "2cf9e29e-f13b-4dff-8ee4-619c50f8dd63",
   "metadata": {},
   "outputs": [
    {
     "name": "stdout",
     "output_type": "stream",
     "text": [
      "{'train': tensor(4.3036), 'val': tensor(4.2983)}\n",
      "{'train': tensor(2.4417), 'val': tensor(2.4879)}\n",
      "{'train': tensor(2.3617), 'val': tensor(2.4146)}\n",
      "{'train': tensor(2.5253), 'val': tensor(2.5032)}\n",
      "{'train': tensor(2.4525), 'val': tensor(2.4584)}\n",
      "{'train': tensor(2.5602), 'val': tensor(2.5186)}\n",
      "{'train': tensor(2.5137), 'val': tensor(2.4933)}\n",
      "{'train': tensor(2.4191), 'val': tensor(2.4185)}\n",
      "{'train': tensor(2.4012), 'val': tensor(2.4168)}\n",
      "{'train': tensor(2.5034), 'val': tensor(2.4503)}\n",
      "{'train': tensor(2.4425), 'val': tensor(2.5656)}\n",
      "{'train': tensor(2.5026), 'val': tensor(2.4457)}\n",
      "{'train': tensor(2.4930), 'val': tensor(2.4619)}\n",
      "{'train': tensor(2.4090), 'val': tensor(2.4638)}\n",
      "{'train': tensor(2.5540), 'val': tensor(2.5224)}\n",
      "{'train': tensor(2.4811), 'val': tensor(2.5075)}\n",
      "{'train': tensor(2.5268), 'val': tensor(2.4874)}\n",
      "{'train': tensor(2.4796), 'val': tensor(2.4628)}\n",
      "{'train': tensor(2.5198), 'val': tensor(2.5007)}\n",
      "{'train': tensor(2.4336), 'val': tensor(2.5210)}\n"
     ]
    }
   ],
   "source": [
    "torch.manual_seed(1337)\n",
    "model = BigramLanguageModel(vocab_size, n_embed=16)\n",
    "optimizer = torch.optim.AdamW(model.parameters(), lr=1e-2)\n",
    "\n",
    "batch_size = 32\n",
    "\n",
    "for steps in range(20000):\n",
    "    xb, yb = get_batch(\"train\", batch_size=batch_size)\n",
    "    logits, loss = model(xb, targets=yb)\n",
    "    optimizer.zero_grad(set_to_none=True)\n",
    "    loss.backward()\n",
    "    optimizer.step()\n",
    "    if steps % 1000 == 0:\n",
    "        print(estimate_loss(model, eval_iters=20))"
   ]
  },
  {
   "cell_type": "code",
   "execution_count": 96,
   "id": "6878a476-3ffb-4a8b-be55-db67d642a675",
   "metadata": {},
   "outputs": [
    {
     "name": "stdout",
     "output_type": "stream",
     "text": [
      "\n",
      "GH: ofrs'st mst!\n",
      "Pin GLo cohesinse betizlerk, bus the\n",
      "I ngoss.\n",
      "I:\n",
      "hthe our sthore y ooutheswh w loorm, ice hit heg, I r mathtavoy uaswllit wooferestithexthovould thes mitndrleaisstout fisidve choures;\n",
      "\n",
      "\n",
      "Fie mmeppp-HES:\n",
      "Lo mest ios t demase 'd id:\n",
      "NBUFoner, thexpeacitt.\n",
      "TESase\n",
      "Wepe\n",
      "Anou ooundels we\n",
      "Thshe 'deerdex's ny. alind te,\n",
      "K:\n",
      "\n",
      "ARDue;\n",
      "Fowse be h wel MNulde.\n",
      "Whoussie t this\n",
      "I:\n",
      "OMy ivesto, ar d m ctha Conequs dlod; ias d hicongl, bl ilathrer'din, wer s,\n",
      "Ang ope theemalplowhentus thecood ngswno\n"
     ]
    }
   ],
   "source": [
    "idx_out = model.generate(idx=torch.zeros(2, 1, dtype=torch.long), max_new_tokens=500)\n",
    "print(decode(idx_out[0].tolist()))"
   ]
  },
  {
   "cell_type": "code",
   "execution_count": null,
   "id": "c1efb8e4-9af5-41f6-a879-7443a1e86c3a",
   "metadata": {},
   "outputs": [],
   "source": [
    "class Head(nn.Module):\n",
    "    def __init__(self, n_embed=10, block_size=8, head_size=16, dropout=0.2):\n",
    "        super().__init__()\n",
    "        self.query = nn.Linear(n_embed, head_size, bias=False)\n",
    "        self.key = nn.Linear(n_embed, head_size, bias=False)\n",
    "        self.value = nn.Linear(n_embed, head_size, bias=False)\n",
    "        self.register_buffer(\"tril\", torch.tril(torch.ones((block_size, block_size)))\n",
    "        self.dropout = nn.Dropout(dropout)\n",
    "                             \n",
    "    def forward(self, x):\n",
    "        B, T, C = x.shape\n",
    "        q = self.query(x) # B, T, H\n",
    "        k = self.key(x) # B, T, H\n",
    "        v = self.value(x)\n",
    "        wei = q @ k.transpose(-2, -1) * head_size**-0.5 # B, T, T\n",
    "        wei = wei.masked_fill(self.tril[:T, :T]==0, float('-inf')) # B, T, T\n",
    "        wei = F.soft_max(wei / torch.sqrt(head_size), dim=-1)\n",
    "        wei = self.dropout(wei)\n",
    "        self.out = wei @ v\n",
    "        return self.out\n",
    "\n",
    "class "
   ]
  }
 ],
 "metadata": {
  "kernelspec": {
   "display_name": "Python 3 (ipykernel)",
   "language": "python",
   "name": "python3"
  },
  "language_info": {
   "codemirror_mode": {
    "name": "ipython",
    "version": 3
   },
   "file_extension": ".py",
   "mimetype": "text/x-python",
   "name": "python",
   "nbconvert_exporter": "python",
   "pygments_lexer": "ipython3",
   "version": "3.12.8"
  }
 },
 "nbformat": 4,
 "nbformat_minor": 5
}

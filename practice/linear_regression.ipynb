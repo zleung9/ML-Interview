{
 "cells": [
  {
   "cell_type": "markdown",
   "metadata": {},
   "source": [
    "$$y = mx +b$$\n",
    "$$m = \\frac{\\sum{(x_i-\\bar{x})(y_i-\\bar{y})}}{\\sum{(x_i-\\bar{x})^2}}$$\n",
    "$$b = \\bar{y} - m\\cdot\\bar{x}$$"
   ]
  },
  {
   "cell_type": "code",
   "execution_count": 3,
   "metadata": {},
   "outputs": [],
   "source": [
    "import numpy as np\n",
    "\n",
    "class LinearRegression:\n",
    "\n",
    "    def __init__(self):\n",
    "        self.slope = 0\n",
    "        self.intercept = 0\n",
    "\n",
    "    def fit(self, X, y):\n",
    "        x_mean = np.mean(X)\n",
    "        y_mean = np.mean(y)\n",
    "\n",
    "        numerator = np.sum((X - x_mean) * (y - y_mean))\n",
    "        denominator = np.sum((X-x_mean)**2)\n",
    "\n",
    "        self.slope = numerator / denominator\n",
    "        self.intercept = y_mean - (self.slope * x_mean)\n",
    "\n",
    "    def predict(self, X):\n",
    "        return self.slope * X + self.intercept"
   ]
  },
  {
   "cell_type": "code",
   "execution_count": 6,
   "metadata": {},
   "outputs": [
    {
     "name": "stdout",
     "output_type": "stream",
     "text": [
      "0.6\n",
      "2.2\n",
      "[2.8 3.4 4.  4.6 5.2]\n"
     ]
    }
   ],
   "source": [
    "X = np.array([1, 2, 3, 4, 5])\n",
    "y = np.array([2, 4, 5, 4, 5])\n",
    "lr = LinearRegression()\n",
    "lr.fit(X, y)\n",
    "print(lr.slope)  # Output: 0.6\n",
    "print(lr.intercept)  # Output: 2.2\n",
    "y_pred = lr.predict(X)\n",
    "print(y_pred)  # Output: [2.8, 3.4, 4.0, 4.6, 5.2]"
   ]
  },
  {
   "cell_type": "markdown",
   "metadata": {},
   "source": [
    "# Vectorized\n",
    "$$y = w_0 + w_1.x_1 + w_2.x_2 + ... + w_n.x_n = X. W$$\n",
    "$$W = (X^{T}X)^{-1}X^{T}y$$\n",
    "Note:\n",
    "1. Here the `X` includes bias term: `1`\n",
    "1. `numpy.linalg.inv()` calculate the inverse of a matrix\n",
    "2. `X @ Y` is maatrix multiplication assuming X has shape `(N, K)` and Y of shape `(K, M)`, the output will have shape `(N, M)`"
   ]
  },
  {
   "cell_type": "code",
   "execution_count": 18,
   "metadata": {},
   "outputs": [],
   "source": [
    "class LinearRegression:\n",
    "\n",
    "    def __init__(self):\n",
    "        self.W = None\n",
    "    \n",
    "    def fit(self, X, y):\n",
    "        '''\n",
    "        X: input data, shape = (n_samples, n_features)\n",
    "        y: target data, shape = (n_samples)\n",
    "        '''\n",
    "        y = y.reshape(-1, 1)\n",
    "        X = np.hstack([np.ones((X.shape[0], 1)), X])\n",
    "        self.W = np.linalg.inv(X.T @ X) @ X.T @ y\n",
    "\n",
    "    def predict(self, X):\n",
    "        X = np.hstack([np.ones((X.shape[0], 1)), X])\n",
    "        return X @ self.W"
   ]
  },
  {
   "cell_type": "code",
   "execution_count": 19,
   "metadata": {},
   "outputs": [
    {
     "name": "stdout",
     "output_type": "stream",
     "text": [
      "[[3.]\n",
      " [1.]\n",
      " [2.]]\n",
      "[[35.]\n",
      " [44.]]\n"
     ]
    }
   ],
   "source": [
    "# Create example input data\n",
    "X = np.array([[2, 2], [4, 5], [7, 8]])\n",
    "y = np.array([9, 17, 26])\n",
    "\n",
    "# Fit linear regression model\n",
    "lr = LinearRegression()\n",
    "lr.fit(X, y)\n",
    "print(lr.W) # [3. 1. 2.]\n",
    "\n",
    "# Make predictions on new data\n",
    "X_new = np.array([[10, 11], [13, 14]])\n",
    "y_pred = lr.predict(X_new)\n",
    "print(y_pred)  # Output: [43. 55.]"
   ]
  },
  {
   "cell_type": "markdown",
   "metadata": {},
   "source": [
    "# Gradiant Descent\n",
    "cost function:\n",
    "$$Loss=\\sum{(y_{pred} - y)^2}=\\sum{(XW-y)^2}$$ \n",
    "gradient:\n",
    "$$2\\cdot X^T(XW-y)$$\n",
    "***"
   ]
  },
  {
   "cell_type": "markdown",
   "metadata": {},
   "source": [
    "Let's derive the gradient of the loss with respect to W step by step.\n",
    "\n",
    "$$\\frac{\\partial}{\\partial W}(XW-y)^2 = 2(XW-y)X$$\n",
    "\n",
    "$$\\nabla_W Loss = \\sum{2(XW-y)X} = 2X^T(XW-y)$$\n",
    "\n",
    "\n",
    "$$\\nabla_W Loss = 2X^T(XW-y)$$\n",
    "\n",
    "In code, this would be implemented as:\n",
    "```python\n",
    "gradient = 2 * X.T @ (X @ W - y)\n",
    "```\n",
    "\n",
    "And the gradient descent update rule would be:\n",
    "```python\n",
    "W := W - α * X.T @ (X @ W - y)\n",
    "```\n",
    "where α is the learning rate.\n",
    "\n",
    "Note: Sometimes you'll see this written with a (1/m) term to take the mean rather than sum:\n",
    "$$\\nabla_W Loss = \\frac{2}{m}X^T(XW-y)$$"
   ]
  },
  {
   "cell_type": "code",
   "execution_count": 71,
   "metadata": {},
   "outputs": [],
   "source": [
    "class LinearRegressionGD:\n",
    "\n",
    "    def __init__(self):\n",
    "        self.W = None\n",
    "    \n",
    "    def fit(self, X, y, num_iter=100, lr=0.01, lambda_=1):\n",
    "        '''\n",
    "        X: input data, shape = (n_samples, n_features)\n",
    "        y: target data, shape = (n_samples)\n",
    "        '''\n",
    "        # check dimensions\n",
    "        y = y.reshape(-1, 1)\n",
    "        assert X.shape[0] == y.shape[0]\n",
    "\n",
    "        # add bias term\n",
    "        X = np.hstack([np.ones((X.shape[0], 1)), X])\n",
    "        \n",
    "        \n",
    "        self.W = np.zeros((X.shape[1], y.shape[1]))\n",
    "        for i in range(num_iter):\n",
    "            y_pred = X @ self.W\n",
    "            cost = np.sum((y_pred - y) ** 2) + lambda_ * np.sum(self.W ** 2)\n",
    "            gradient = 2 * X.T @ (y_pred - y) + 2 * lambda_ * self.W\n",
    "\n",
    "            # update W\n",
    "            self. W = self.W - lr * gradient\n",
    "\n",
    "            # print\n",
    "            if i % 1000 == 0:\n",
    "                print(f'Iter: {i}, Cost: {cost}')\n",
    "\n",
    "    def predict(self, X):\n",
    "        X = np.hstack([np.ones((X.shape[0], 1)), X])\n",
    "        return X @ self.W"
   ]
  },
  {
   "cell_type": "code",
   "execution_count": 72,
   "metadata": {},
   "outputs": [
    {
     "name": "stdout",
     "output_type": "stream",
     "text": [
      "Iter: 0, Cost: 86.0\n",
      "Iter: 1000, Cost: 2.8791287270130335\n",
      "Iter: 2000, Cost: 2.8791287270130344\n",
      "Iter: 3000, Cost: 2.8791287270130344\n",
      "Iter: 4000, Cost: 2.8791287270130344\n",
      "Iter: 5000, Cost: 2.8791287270130344\n",
      "Iter: 6000, Cost: 2.8791287270130344\n",
      "Iter: 7000, Cost: 2.8791287270130344\n",
      "Iter: 8000, Cost: 2.8791287270130344\n",
      "Iter: 9000, Cost: 2.8791287270130344\n",
      "[[1.99964292]\n",
      " [0.65345474]]\n",
      "[[2.65309766]\n",
      " [3.3065524 ]\n",
      " [3.96000714]\n",
      " [4.61346188]\n",
      " [5.26691662]]\n"
     ]
    }
   ],
   "source": [
    "X = np.array([[1, 2, 3, 4, 5]]).T\n",
    "y = np.array([2, 4, 5, 4, 5])\n",
    "lr = LinearRegressionGD()\n",
    "lr.fit(X, y, lr=0.01, num_iter=10000, lambda_=0.1)\n",
    "print(lr.W)  # Output: [ 1.99964292  0.65345474 ]\n",
    "y_pred = lr.predict(X)\n",
    "print(y_pred)  # # Output: [2.65309766, 3.3065524, 3.96000714, 4.61346188, 5.26691662]\n"
   ]
  },
  {
   "cell_type": "markdown",
   "metadata": {},
   "source": [
    "Visualize"
   ]
  },
  {
   "cell_type": "code",
   "execution_count": 73,
   "metadata": {},
   "outputs": [
    {
     "data": {
      "image/png": "[encoded data removed]",
      "text/plain": [
       "<Figure size 640x480 with 1 Axes>"
      ]
     },
     "metadata": {},
     "output_type": "display_data"
    }
   ],
   "source": [
    "import matplotlib.pyplot as plt \n",
    "\n",
    "# Plot the data and the linear regression line\n",
    "plt.scatter(X, y, color='blue')\n",
    "plt.plot(X, y_pred, color='red')\n",
    "plt.xlabel('X')\n",
    "plt.ylabel('y')\n",
    "plt.title('Linear Regression')\n",
    "plt.show()"
   ]
  },
  {
   "cell_type": "code",
   "execution_count": null,
   "metadata": {},
   "outputs": [],
   "source": []
  }
 ],
 "metadata": {
  "kernelspec": {
   "display_name": ".venv",
   "language": "python",
   "name": "python3"
  },
  "language_info": {
   "codemirror_mode": {
    "name": "ipython",
    "version": 3
   },
   "file_extension": ".py",
   "mimetype": "text/x-python",
   "name": "python",
   "nbconvert_exporter": "python",
   "pygments_lexer": "ipython3",
   "version": "3.12.8"
  }
 },
 "nbformat": 4,
 "nbformat_minor": 2
}
